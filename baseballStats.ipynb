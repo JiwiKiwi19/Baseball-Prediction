{
 "cells": [
  {
   "cell_type": "code",
   "execution_count": 75,
   "id": "5d173d38",
   "metadata": {
    "tags": []
   },
   "outputs": [],
   "source": [
    "import os\n",
    "import pandas as pd\n",
    "import numpy as np\n",
    "from pybaseball import batting_stats"
   ]
  },
  {
   "cell_type": "code",
   "execution_count": 77,
   "id": "40fbbade",
   "metadata": {
    "tags": []
   },
   "outputs": [],
   "source": [
    "START = 2002\n",
    "END = 2022"
   ]
  },
  {
   "cell_type": "code",
   "execution_count": 79,
   "id": "531f86e9",
   "metadata": {
    "tags": []
   },
   "outputs": [],
   "source": [
    "#Qual stands for how many at bats the batter should at least have\n",
    "batting = batting_stats(START, END, qual=200)"
   ]
  },
  {
   "cell_type": "code",
   "execution_count": 80,
   "id": "2793246f",
   "metadata": {
    "tags": []
   },
   "outputs": [],
   "source": [
    "batting = pd.read_csv(\"batting.csv\") "
   ]
  },
  {
   "cell_type": "code",
   "execution_count": 81,
   "id": "c5745bfe",
   "metadata": {
    "tags": []
   },
   "outputs": [],
   "source": [
    "#Grouping each individual players' stats and remove groups that have only one season of data\n",
    "\n",
    "batting = batting.groupby(\"IDfg\", group_keys=False).filter(lambda x: x.shape[0] > 1)"
   ]
  },
  {
   "cell_type": "code",
   "execution_count": 82,
   "id": "6e1eeaaf",
   "metadata": {
    "tags": []
   },
   "outputs": [],
   "source": [
    "#Trying to predict the Wins Above Replacement (WAR) of the players\n",
    "# What is WAR? \n",
    "# WAR (Wins Above Replacement) in baseball measures a player's total value to their team by estimating \n",
    "# how many more wins they contribute compared to a replacement-level player."
   ]
  },
  {
   "cell_type": "code",
   "execution_count": 83,
   "id": "61d1afe4",
   "metadata": {
    "tags": []
   },
   "outputs": [],
   "source": [
    "def next_season(player):\n",
    "    player = player.sort_values(\"Season\")\n",
    "    player[\"Next_WAR\"] = player[\"WAR\"].shift(-1)\n",
    "    return player\n",
    "    \n",
    "batting = batting.groupby(\"IDfg\", group_keys=False).apply(next_season)"
   ]
  },
  {
   "cell_type": "code",
   "execution_count": 84,
   "id": "ca205b9c-f403-4c51-acef-a7a521e186c5",
   "metadata": {
    "tags": []
   },
   "outputs": [
    {
     "data": {
      "text/html": [
       "<div>\n",
       "<style scoped>\n",
       "    .dataframe tbody tr th:only-of-type {\n",
       "        vertical-align: middle;\n",
       "    }\n",
       "\n",
       "    .dataframe tbody tr th {\n",
       "        vertical-align: top;\n",
       "    }\n",
       "\n",
       "    .dataframe thead th {\n",
       "        text-align: right;\n",
       "    }\n",
       "</style>\n",
       "<table border=\"1\" class=\"dataframe\">\n",
       "  <thead>\n",
       "    <tr style=\"text-align: right;\">\n",
       "      <th></th>\n",
       "      <th>Name</th>\n",
       "      <th>Season</th>\n",
       "      <th>WAR</th>\n",
       "      <th>Next_WAR</th>\n",
       "    </tr>\n",
       "  </thead>\n",
       "  <tbody>\n",
       "    <tr>\n",
       "      <th>3944</th>\n",
       "      <td>Alfredo Amezaga</td>\n",
       "      <td>2006</td>\n",
       "      <td>1.1</td>\n",
       "      <td>2.0</td>\n",
       "    </tr>\n",
       "    <tr>\n",
       "      <th>2609</th>\n",
       "      <td>Alfredo Amezaga</td>\n",
       "      <td>2007</td>\n",
       "      <td>2.0</td>\n",
       "      <td>1.2</td>\n",
       "    </tr>\n",
       "    <tr>\n",
       "      <th>3787</th>\n",
       "      <td>Alfredo Amezaga</td>\n",
       "      <td>2008</td>\n",
       "      <td>1.2</td>\n",
       "      <td>NaN</td>\n",
       "    </tr>\n",
       "    <tr>\n",
       "      <th>1020</th>\n",
       "      <td>Garret Anderson</td>\n",
       "      <td>2002</td>\n",
       "      <td>3.7</td>\n",
       "      <td>5.1</td>\n",
       "    </tr>\n",
       "    <tr>\n",
       "      <th>425</th>\n",
       "      <td>Garret Anderson</td>\n",
       "      <td>2003</td>\n",
       "      <td>5.1</td>\n",
       "      <td>0.8</td>\n",
       "    </tr>\n",
       "    <tr>\n",
       "      <th>...</th>\n",
       "      <td>...</td>\n",
       "      <td>...</td>\n",
       "      <td>...</td>\n",
       "      <td>...</td>\n",
       "    </tr>\n",
       "    <tr>\n",
       "      <th>4665</th>\n",
       "      <td>Owen Miller</td>\n",
       "      <td>2022</td>\n",
       "      <td>0.7</td>\n",
       "      <td>NaN</td>\n",
       "    </tr>\n",
       "    <tr>\n",
       "      <th>6108</th>\n",
       "      <td>Andrew Vaughn</td>\n",
       "      <td>2021</td>\n",
       "      <td>-0.2</td>\n",
       "      <td>-0.5</td>\n",
       "    </tr>\n",
       "    <tr>\n",
       "      <th>6449</th>\n",
       "      <td>Andrew Vaughn</td>\n",
       "      <td>2022</td>\n",
       "      <td>-0.5</td>\n",
       "      <td>NaN</td>\n",
       "    </tr>\n",
       "    <tr>\n",
       "      <th>5238</th>\n",
       "      <td>Ha-seong Kim</td>\n",
       "      <td>2021</td>\n",
       "      <td>0.4</td>\n",
       "      <td>3.7</td>\n",
       "    </tr>\n",
       "    <tr>\n",
       "      <th>1071</th>\n",
       "      <td>Ha-seong Kim</td>\n",
       "      <td>2022</td>\n",
       "      <td>3.7</td>\n",
       "      <td>NaN</td>\n",
       "    </tr>\n",
       "  </tbody>\n",
       "</table>\n",
       "<p>6754 rows × 4 columns</p>\n",
       "</div>"
      ],
      "text/plain": [
       "                 Name  Season  WAR  Next_WAR\n",
       "3944  Alfredo Amezaga    2006  1.1       2.0\n",
       "2609  Alfredo Amezaga    2007  2.0       1.2\n",
       "3787  Alfredo Amezaga    2008  1.2       NaN\n",
       "1020  Garret Anderson    2002  3.7       5.1\n",
       "425   Garret Anderson    2003  5.1       0.8\n",
       "...               ...     ...  ...       ...\n",
       "4665      Owen Miller    2022  0.7       NaN\n",
       "6108    Andrew Vaughn    2021 -0.2      -0.5\n",
       "6449    Andrew Vaughn    2022 -0.5       NaN\n",
       "5238     Ha-seong Kim    2021  0.4       3.7\n",
       "1071     Ha-seong Kim    2022  3.7       NaN\n",
       "\n",
       "[6754 rows x 4 columns]"
      ]
     },
     "execution_count": 84,
     "metadata": {},
     "output_type": "execute_result"
    }
   ],
   "source": [
    "# Pulling the WAR value one to the back to show in the variable \"Next_WAR\"\n",
    "batting[[\"Name\", \"Season\", \"WAR\", \"Next_WAR\"]]"
   ]
  },
  {
   "cell_type": "code",
   "execution_count": 85,
   "id": "3de1df3b-333a-4bee-9702-e8c7a2841fc8",
   "metadata": {
    "tags": []
   },
   "outputs": [],
   "source": [
    "# Cleaning the data for AI to impute all the values\n",
    "\n",
    "null_count = batting.isnull().sum()"
   ]
  },
  {
   "cell_type": "code",
   "execution_count": 93,
   "id": "e9ca8a17-96b8-43a3-b101-65f785e1fd13",
   "metadata": {
    "tags": []
   },
   "outputs": [
    {
     "data": {
      "text/plain": [
       "Unnamed: 0       0\n",
       "IDfg             0\n",
       "Season           0\n",
       "Name             0\n",
       "Team             0\n",
       "              ... \n",
       "xBA           6754\n",
       "xSLG          6754\n",
       "xwOBA         6754\n",
       "L-WAR            0\n",
       "Next_WAR      1179\n",
       "Length: 322, dtype: int64"
      ]
     },
     "execution_count": 93,
     "metadata": {},
     "output_type": "execute_result"
    }
   ],
   "source": [
    "null_count"
   ]
  },
  {
   "cell_type": "code",
   "execution_count": 95,
   "id": "b30818a9-6c10-4635-a36d-930a08f05dde",
   "metadata": {
    "tags": []
   },
   "outputs": [],
   "source": [
    "complete_cols = list(batting.columns[null_count == 0])"
   ]
  },
  {
   "cell_type": "code",
   "execution_count": 99,
   "id": "3b74b8fd-71fc-4137-8894-16ae875bd613",
   "metadata": {
    "tags": []
   },
   "outputs": [],
   "source": [
    "batting = batting[complete_cols + [\"Next_WAR\"]].copy()"
   ]
  },
  {
   "cell_type": "code",
   "execution_count": 101,
   "id": "53cc251c-ff9f-41bd-b7b3-c71d39a40f55",
   "metadata": {
    "tags": []
   },
   "outputs": [
    {
     "data": {
      "text/html": [
       "<div>\n",
       "<style scoped>\n",
       "    .dataframe tbody tr th:only-of-type {\n",
       "        vertical-align: middle;\n",
       "    }\n",
       "\n",
       "    .dataframe tbody tr th {\n",
       "        vertical-align: top;\n",
       "    }\n",
       "\n",
       "    .dataframe thead th {\n",
       "        text-align: right;\n",
       "    }\n",
       "</style>\n",
       "<table border=\"1\" class=\"dataframe\">\n",
       "  <thead>\n",
       "    <tr style=\"text-align: right;\">\n",
       "      <th></th>\n",
       "      <th>Unnamed: 0</th>\n",
       "      <th>IDfg</th>\n",
       "      <th>Season</th>\n",
       "      <th>Name</th>\n",
       "      <th>Team</th>\n",
       "      <th>Age</th>\n",
       "      <th>G</th>\n",
       "      <th>AB</th>\n",
       "      <th>PA</th>\n",
       "      <th>H</th>\n",
       "      <th>...</th>\n",
       "      <th>Cent%+</th>\n",
       "      <th>Oppo%+</th>\n",
       "      <th>Soft%+</th>\n",
       "      <th>Med%+</th>\n",
       "      <th>Hard%+</th>\n",
       "      <th>Events</th>\n",
       "      <th>CStr%</th>\n",
       "      <th>CSW%</th>\n",
       "      <th>L-WAR</th>\n",
       "      <th>Next_WAR</th>\n",
       "    </tr>\n",
       "  </thead>\n",
       "  <tbody>\n",
       "    <tr>\n",
       "      <th>3944</th>\n",
       "      <td>5562</td>\n",
       "      <td>1</td>\n",
       "      <td>2006</td>\n",
       "      <td>Alfredo Amezaga</td>\n",
       "      <td>FLA</td>\n",
       "      <td>28</td>\n",
       "      <td>132</td>\n",
       "      <td>334</td>\n",
       "      <td>378</td>\n",
       "      <td>87</td>\n",
       "      <td>...</td>\n",
       "      <td>107</td>\n",
       "      <td>113</td>\n",
       "      <td>143</td>\n",
       "      <td>109</td>\n",
       "      <td>63</td>\n",
       "      <td>0</td>\n",
       "      <td>0.188</td>\n",
       "      <td>0.256</td>\n",
       "      <td>1.1</td>\n",
       "      <td>2.0</td>\n",
       "    </tr>\n",
       "    <tr>\n",
       "      <th>2609</th>\n",
       "      <td>5006</td>\n",
       "      <td>1</td>\n",
       "      <td>2007</td>\n",
       "      <td>Alfredo Amezaga</td>\n",
       "      <td>FLA</td>\n",
       "      <td>29</td>\n",
       "      <td>133</td>\n",
       "      <td>400</td>\n",
       "      <td>448</td>\n",
       "      <td>105</td>\n",
       "      <td>...</td>\n",
       "      <td>101</td>\n",
       "      <td>112</td>\n",
       "      <td>109</td>\n",
       "      <td>113</td>\n",
       "      <td>75</td>\n",
       "      <td>0</td>\n",
       "      <td>0.175</td>\n",
       "      <td>0.227</td>\n",
       "      <td>2.0</td>\n",
       "      <td>1.2</td>\n",
       "    </tr>\n",
       "    <tr>\n",
       "      <th>3787</th>\n",
       "      <td>5252</td>\n",
       "      <td>1</td>\n",
       "      <td>2008</td>\n",
       "      <td>Alfredo Amezaga</td>\n",
       "      <td>FLA</td>\n",
       "      <td>30</td>\n",
       "      <td>125</td>\n",
       "      <td>311</td>\n",
       "      <td>337</td>\n",
       "      <td>82</td>\n",
       "      <td>...</td>\n",
       "      <td>101</td>\n",
       "      <td>101</td>\n",
       "      <td>123</td>\n",
       "      <td>111</td>\n",
       "      <td>64</td>\n",
       "      <td>0</td>\n",
       "      <td>0.178</td>\n",
       "      <td>0.244</td>\n",
       "      <td>1.2</td>\n",
       "      <td>NaN</td>\n",
       "    </tr>\n",
       "    <tr>\n",
       "      <th>1020</th>\n",
       "      <td>1169</td>\n",
       "      <td>2</td>\n",
       "      <td>2002</td>\n",
       "      <td>Garret Anderson</td>\n",
       "      <td>ANA</td>\n",
       "      <td>30</td>\n",
       "      <td>158</td>\n",
       "      <td>638</td>\n",
       "      <td>678</td>\n",
       "      <td>195</td>\n",
       "      <td>...</td>\n",
       "      <td>91</td>\n",
       "      <td>80</td>\n",
       "      <td>65</td>\n",
       "      <td>97</td>\n",
       "      <td>129</td>\n",
       "      <td>0</td>\n",
       "      <td>0.137</td>\n",
       "      <td>0.232</td>\n",
       "      <td>3.7</td>\n",
       "      <td>5.1</td>\n",
       "    </tr>\n",
       "    <tr>\n",
       "      <th>425</th>\n",
       "      <td>864</td>\n",
       "      <td>2</td>\n",
       "      <td>2003</td>\n",
       "      <td>Garret Anderson</td>\n",
       "      <td>ANA</td>\n",
       "      <td>31</td>\n",
       "      <td>159</td>\n",
       "      <td>638</td>\n",
       "      <td>673</td>\n",
       "      <td>201</td>\n",
       "      <td>...</td>\n",
       "      <td>101</td>\n",
       "      <td>80</td>\n",
       "      <td>90</td>\n",
       "      <td>99</td>\n",
       "      <td>109</td>\n",
       "      <td>0</td>\n",
       "      <td>0.164</td>\n",
       "      <td>0.252</td>\n",
       "      <td>5.1</td>\n",
       "      <td>0.8</td>\n",
       "    </tr>\n",
       "    <tr>\n",
       "      <th>...</th>\n",
       "      <td>...</td>\n",
       "      <td>...</td>\n",
       "      <td>...</td>\n",
       "      <td>...</td>\n",
       "      <td>...</td>\n",
       "      <td>...</td>\n",
       "      <td>...</td>\n",
       "      <td>...</td>\n",
       "      <td>...</td>\n",
       "      <td>...</td>\n",
       "      <td>...</td>\n",
       "      <td>...</td>\n",
       "      <td>...</td>\n",
       "      <td>...</td>\n",
       "      <td>...</td>\n",
       "      <td>...</td>\n",
       "      <td>...</td>\n",
       "      <td>...</td>\n",
       "      <td>...</td>\n",
       "      <td>...</td>\n",
       "      <td>...</td>\n",
       "    </tr>\n",
       "    <tr>\n",
       "      <th>4665</th>\n",
       "      <td>6002</td>\n",
       "      <td>24655</td>\n",
       "      <td>2022</td>\n",
       "      <td>Owen Miller</td>\n",
       "      <td>CLE</td>\n",
       "      <td>25</td>\n",
       "      <td>130</td>\n",
       "      <td>424</td>\n",
       "      <td>472</td>\n",
       "      <td>103</td>\n",
       "      <td>...</td>\n",
       "      <td>111</td>\n",
       "      <td>97</td>\n",
       "      <td>131</td>\n",
       "      <td>100</td>\n",
       "      <td>83</td>\n",
       "      <td>340</td>\n",
       "      <td>0.188</td>\n",
       "      <td>0.266</td>\n",
       "      <td>0.7</td>\n",
       "      <td>NaN</td>\n",
       "    </tr>\n",
       "    <tr>\n",
       "      <th>6108</th>\n",
       "      <td>4881</td>\n",
       "      <td>26197</td>\n",
       "      <td>2021</td>\n",
       "      <td>Andrew Vaughn</td>\n",
       "      <td>CHW</td>\n",
       "      <td>23</td>\n",
       "      <td>127</td>\n",
       "      <td>417</td>\n",
       "      <td>469</td>\n",
       "      <td>98</td>\n",
       "      <td>...</td>\n",
       "      <td>104</td>\n",
       "      <td>116</td>\n",
       "      <td>84</td>\n",
       "      <td>99</td>\n",
       "      <td>110</td>\n",
       "      <td>321</td>\n",
       "      <td>0.185</td>\n",
       "      <td>0.285</td>\n",
       "      <td>-0.4</td>\n",
       "      <td>-0.5</td>\n",
       "    </tr>\n",
       "    <tr>\n",
       "      <th>6449</th>\n",
       "      <td>3377</td>\n",
       "      <td>26197</td>\n",
       "      <td>2022</td>\n",
       "      <td>Andrew Vaughn</td>\n",
       "      <td>CHW</td>\n",
       "      <td>24</td>\n",
       "      <td>134</td>\n",
       "      <td>510</td>\n",
       "      <td>555</td>\n",
       "      <td>138</td>\n",
       "      <td>...</td>\n",
       "      <td>106</td>\n",
       "      <td>111</td>\n",
       "      <td>94</td>\n",
       "      <td>100</td>\n",
       "      <td>104</td>\n",
       "      <td>419</td>\n",
       "      <td>0.201</td>\n",
       "      <td>0.291</td>\n",
       "      <td>-0.5</td>\n",
       "      <td>NaN</td>\n",
       "    </tr>\n",
       "    <tr>\n",
       "      <th>5238</th>\n",
       "      <td>6620</td>\n",
       "      <td>27506</td>\n",
       "      <td>2021</td>\n",
       "      <td>Ha-seong Kim</td>\n",
       "      <td>SDP</td>\n",
       "      <td>25</td>\n",
       "      <td>117</td>\n",
       "      <td>267</td>\n",
       "      <td>298</td>\n",
       "      <td>54</td>\n",
       "      <td>...</td>\n",
       "      <td>99</td>\n",
       "      <td>59</td>\n",
       "      <td>137</td>\n",
       "      <td>96</td>\n",
       "      <td>88</td>\n",
       "      <td>201</td>\n",
       "      <td>0.216</td>\n",
       "      <td>0.303</td>\n",
       "      <td>0.5</td>\n",
       "      <td>3.7</td>\n",
       "    </tr>\n",
       "    <tr>\n",
       "      <th>1071</th>\n",
       "      <td>4396</td>\n",
       "      <td>27506</td>\n",
       "      <td>2022</td>\n",
       "      <td>Ha-seong Kim</td>\n",
       "      <td>SDP</td>\n",
       "      <td>26</td>\n",
       "      <td>150</td>\n",
       "      <td>517</td>\n",
       "      <td>582</td>\n",
       "      <td>130</td>\n",
       "      <td>...</td>\n",
       "      <td>104</td>\n",
       "      <td>71</td>\n",
       "      <td>117</td>\n",
       "      <td>100</td>\n",
       "      <td>90</td>\n",
       "      <td>424</td>\n",
       "      <td>0.205</td>\n",
       "      <td>0.276</td>\n",
       "      <td>3.7</td>\n",
       "      <td>NaN</td>\n",
       "    </tr>\n",
       "  </tbody>\n",
       "</table>\n",
       "<p>6754 rows × 134 columns</p>\n",
       "</div>"
      ],
      "text/plain": [
       "      Unnamed: 0   IDfg  Season             Name Team  Age    G   AB   PA  \\\n",
       "3944        5562      1    2006  Alfredo Amezaga  FLA   28  132  334  378   \n",
       "2609        5006      1    2007  Alfredo Amezaga  FLA   29  133  400  448   \n",
       "3787        5252      1    2008  Alfredo Amezaga  FLA   30  125  311  337   \n",
       "1020        1169      2    2002  Garret Anderson  ANA   30  158  638  678   \n",
       "425          864      2    2003  Garret Anderson  ANA   31  159  638  673   \n",
       "...          ...    ...     ...              ...  ...  ...  ...  ...  ...   \n",
       "4665        6002  24655    2022      Owen Miller  CLE   25  130  424  472   \n",
       "6108        4881  26197    2021    Andrew Vaughn  CHW   23  127  417  469   \n",
       "6449        3377  26197    2022    Andrew Vaughn  CHW   24  134  510  555   \n",
       "5238        6620  27506    2021     Ha-seong Kim  SDP   25  117  267  298   \n",
       "1071        4396  27506    2022     Ha-seong Kim  SDP   26  150  517  582   \n",
       "\n",
       "        H  ...  Cent%+  Oppo%+  Soft%+  Med%+  Hard%+  Events  CStr%   CSW%  \\\n",
       "3944   87  ...     107     113     143    109      63       0  0.188  0.256   \n",
       "2609  105  ...     101     112     109    113      75       0  0.175  0.227   \n",
       "3787   82  ...     101     101     123    111      64       0  0.178  0.244   \n",
       "1020  195  ...      91      80      65     97     129       0  0.137  0.232   \n",
       "425   201  ...     101      80      90     99     109       0  0.164  0.252   \n",
       "...   ...  ...     ...     ...     ...    ...     ...     ...    ...    ...   \n",
       "4665  103  ...     111      97     131    100      83     340  0.188  0.266   \n",
       "6108   98  ...     104     116      84     99     110     321  0.185  0.285   \n",
       "6449  138  ...     106     111      94    100     104     419  0.201  0.291   \n",
       "5238   54  ...      99      59     137     96      88     201  0.216  0.303   \n",
       "1071  130  ...     104      71     117    100      90     424  0.205  0.276   \n",
       "\n",
       "      L-WAR  Next_WAR  \n",
       "3944    1.1       2.0  \n",
       "2609    2.0       1.2  \n",
       "3787    1.2       NaN  \n",
       "1020    3.7       5.1  \n",
       "425     5.1       0.8  \n",
       "...     ...       ...  \n",
       "4665    0.7       NaN  \n",
       "6108   -0.4      -0.5  \n",
       "6449   -0.5       NaN  \n",
       "5238    0.5       3.7  \n",
       "1071    3.7       NaN  \n",
       "\n",
       "[6754 rows x 134 columns]"
      ]
     },
     "execution_count": 101,
     "metadata": {},
     "output_type": "execute_result"
    }
   ],
   "source": [
    "batting"
   ]
  },
  {
   "cell_type": "code",
   "execution_count": 103,
   "id": "8c25acc9-e720-4e52-b0a4-a2391ce8585d",
   "metadata": {
    "tags": []
   },
   "outputs": [
    {
     "data": {
      "text/plain": [
       "Unnamed: 0      int64\n",
       "IDfg            int64\n",
       "Season          int64\n",
       "Name           object\n",
       "Team           object\n",
       "               ...   \n",
       "Events          int64\n",
       "CStr%         float64\n",
       "CSW%          float64\n",
       "L-WAR         float64\n",
       "Next_WAR      float64\n",
       "Length: 134, dtype: object"
      ]
     },
     "execution_count": 103,
     "metadata": {},
     "output_type": "execute_result"
    }
   ],
   "source": [
    "batting.dtypes"
   ]
  },
  {
   "cell_type": "code",
   "execution_count": 105,
   "id": "66c993ad-090c-47f7-9b7e-8ed7c77ef487",
   "metadata": {
    "tags": []
   },
   "outputs": [
    {
     "data": {
      "text/plain": [
       "Name       object\n",
       "Team       object\n",
       "Dol        object\n",
       "Age Rng    object\n",
       "dtype: object"
      ]
     },
     "execution_count": 105,
     "metadata": {},
     "output_type": "execute_result"
    }
   ],
   "source": [
    "batting.dtypes[batting.dtypes == \"object\"]"
   ]
  },
  {
   "cell_type": "code",
   "execution_count": 107,
   "id": "8426ac08-fa0c-4c39-b532-43db3d1f5c64",
   "metadata": {
    "tags": []
   },
   "outputs": [
    {
     "data": {
      "text/plain": [
       "3944      $5.5\n",
       "2609     $11.2\n",
       "3787      $7.2\n",
       "1020     $14.6\n",
       "425      $22.0\n",
       "         ...  \n",
       "4665      $5.5\n",
       "6108    ($1.6)\n",
       "6449    ($4.1)\n",
       "5238      $3.0\n",
       "1071     $29.2\n",
       "Name: Dol, Length: 6754, dtype: object"
      ]
     },
     "execution_count": 107,
     "metadata": {},
     "output_type": "execute_result"
    }
   ],
   "source": [
    "batting[\"Dol\"]"
   ]
  },
  {
   "cell_type": "code",
   "execution_count": 109,
   "id": "d5eac433-d480-4e6f-ae86-568dadff21f5",
   "metadata": {
    "tags": []
   },
   "outputs": [],
   "source": [
    "# We don't need this value as it's for fangraph to \n",
    "\n",
    "del batting[\"Dol\"]"
   ]
  },
  {
   "cell_type": "code",
   "execution_count": 111,
   "id": "d82978a9-ba7e-4546-a965-f477e78b361a",
   "metadata": {
    "tags": []
   },
   "outputs": [
    {
     "data": {
      "text/plain": [
       "3944    28 - 28\n",
       "2609    29 - 29\n",
       "3787    30 - 30\n",
       "1020    30 - 30\n",
       "425     31 - 31\n",
       "         ...   \n",
       "4665    25 - 25\n",
       "6108    23 - 23\n",
       "6449    24 - 24\n",
       "5238    25 - 25\n",
       "1071    26 - 26\n",
       "Name: Age Rng, Length: 6754, dtype: object"
      ]
     },
     "execution_count": 111,
     "metadata": {},
     "output_type": "execute_result"
    }
   ],
   "source": [
    "batting[\"Age Rng\"]"
   ]
  },
  {
   "cell_type": "code",
   "execution_count": 113,
   "id": "4fd1125a-d9b1-41f9-b3a7-5ba4f06c6f2e",
   "metadata": {
    "tags": []
   },
   "outputs": [],
   "source": [
    "# Don't need this as it's useless information for the prediction\n",
    "del batting[\"Age Rng\"]"
   ]
  },
  {
   "cell_type": "code",
   "execution_count": 117,
   "id": "ef65e00b-d22e-4c8e-899f-155ff530e5c2",
   "metadata": {
    "tags": []
   },
   "outputs": [],
   "source": [
    "# Notice the team name is an object. We can change the team to corresponding number. \n",
    "batting[\"team_code\"] = batting[\"Team\"].astype(\"category\").cat.codes"
   ]
  },
  {
   "cell_type": "code",
   "execution_count": 135,
   "id": "28bd6850-7810-46e4-ac49-e1bd8f04bdc7",
   "metadata": {
    "tags": []
   },
   "outputs": [],
   "source": [
    "batting_full = batting.copy()\n",
    "batting = batting.dropna().copy()"
   ]
  },
  {
   "cell_type": "code",
   "execution_count": 137,
   "id": "ea2da530-fcc7-4eac-9d7f-ff166168ca28",
   "metadata": {
    "tags": []
   },
   "outputs": [],
   "source": [
    "from sklearn.linear_model import Ridge\n",
    "from sklearn.feature_selection import SequentialFeatureSelector\n",
    "from sklearn.model_selection import TimeSeriesSplit\n",
    "\n",
    "# Setting this higherit reduces overfitting \n",
    "rr = Ridge(alpha=1)\n",
    "\n",
    "split = TimeSeriesSplit(n_splits=3)\n",
    "\n",
    "sfs = SequentialFeatureSelector(rr, n_features_to_select=20, direction=\"forward\", cv=split, n_jobs=4)"
   ]
  },
  {
   "cell_type": "code",
   "execution_count": 155,
   "id": "bccfb260-707c-4d92-abe3-3b7b95d73144",
   "metadata": {
    "tags": []
   },
   "outputs": [],
   "source": [
    "removed_columns = [\"Next_WAR\", \"Name\", \"Team\", \"IDfg\", \"Season\", \"Unnamed: 0\"]\n",
    "selected_columns = batting.columns[~batting.columns.isin(removed_columns)]"
   ]
  },
  {
   "cell_type": "code",
   "execution_count": 141,
   "id": "75e5138a-2ff0-4de8-a655-ea763e194854",
   "metadata": {
    "tags": []
   },
   "outputs": [],
   "source": [
    "from sklearn.preprocessing import MinMaxScaler\n",
    "\n",
    "scaler = MinMaxScaler()\n",
    "batting.loc[:, selected_columns] = scaler.fit_transform(batting[selected_columns])"
   ]
  },
  {
   "cell_type": "code",
   "execution_count": 157,
   "id": "af91497e-a7e7-4aac-afb5-3b57759b9a80",
   "metadata": {
    "tags": []
   },
   "outputs": [
    {
     "data": {
      "text/html": [
       "<div>\n",
       "<style scoped>\n",
       "    .dataframe tbody tr th:only-of-type {\n",
       "        vertical-align: middle;\n",
       "    }\n",
       "\n",
       "    .dataframe tbody tr th {\n",
       "        vertical-align: top;\n",
       "    }\n",
       "\n",
       "    .dataframe thead th {\n",
       "        text-align: right;\n",
       "    }\n",
       "</style>\n",
       "<table border=\"1\" class=\"dataframe\">\n",
       "  <thead>\n",
       "    <tr style=\"text-align: right;\">\n",
       "      <th></th>\n",
       "      <th>IDfg</th>\n",
       "      <th>Season</th>\n",
       "      <th>Age</th>\n",
       "      <th>G</th>\n",
       "      <th>AB</th>\n",
       "      <th>PA</th>\n",
       "      <th>H</th>\n",
       "      <th>1B</th>\n",
       "      <th>2B</th>\n",
       "      <th>3B</th>\n",
       "      <th>...</th>\n",
       "      <th>Oppo%+</th>\n",
       "      <th>Soft%+</th>\n",
       "      <th>Med%+</th>\n",
       "      <th>Hard%+</th>\n",
       "      <th>Events</th>\n",
       "      <th>CStr%</th>\n",
       "      <th>CSW%</th>\n",
       "      <th>L-WAR</th>\n",
       "      <th>Next_WAR</th>\n",
       "      <th>team_code</th>\n",
       "    </tr>\n",
       "  </thead>\n",
       "  <tbody>\n",
       "    <tr>\n",
       "      <th>count</th>\n",
       "      <td>5575.000000</td>\n",
       "      <td>5575.000000</td>\n",
       "      <td>5575.000000</td>\n",
       "      <td>5575.000000</td>\n",
       "      <td>5575.000000</td>\n",
       "      <td>5575.000000</td>\n",
       "      <td>5575.000000</td>\n",
       "      <td>5575.000000</td>\n",
       "      <td>5575.000000</td>\n",
       "      <td>5575.000000</td>\n",
       "      <td>...</td>\n",
       "      <td>5575.000000</td>\n",
       "      <td>5575.000000</td>\n",
       "      <td>5575.000000</td>\n",
       "      <td>5575.000000</td>\n",
       "      <td>5575.000000</td>\n",
       "      <td>5575.000000</td>\n",
       "      <td>5575.000000</td>\n",
       "      <td>5575.000000</td>\n",
       "      <td>5575.000000</td>\n",
       "      <td>5575.000000</td>\n",
       "    </tr>\n",
       "    <tr>\n",
       "      <th>mean</th>\n",
       "      <td>5366.785830</td>\n",
       "      <td>2011.163229</td>\n",
       "      <td>0.360600</td>\n",
       "      <td>0.652755</td>\n",
       "      <td>0.478666</td>\n",
       "      <td>0.480943</td>\n",
       "      <td>0.365973</td>\n",
       "      <td>0.290481</td>\n",
       "      <td>0.399279</td>\n",
       "      <td>0.103459</td>\n",
       "      <td>...</td>\n",
       "      <td>0.403164</td>\n",
       "      <td>0.410923</td>\n",
       "      <td>0.511026</td>\n",
       "      <td>0.478646</td>\n",
       "      <td>0.172991</td>\n",
       "      <td>0.498932</td>\n",
       "      <td>0.545898</td>\n",
       "      <td>0.322028</td>\n",
       "      <td>1.792951</td>\n",
       "      <td>0.474128</td>\n",
       "    </tr>\n",
       "    <tr>\n",
       "      <th>std</th>\n",
       "      <td>5133.255295</td>\n",
       "      <td>5.612014</td>\n",
       "      <td>0.147476</td>\n",
       "      <td>0.255929</td>\n",
       "      <td>0.242481</td>\n",
       "      <td>0.262290</td>\n",
       "      <td>0.182585</td>\n",
       "      <td>0.138786</td>\n",
       "      <td>0.171732</td>\n",
       "      <td>0.105891</td>\n",
       "      <td>...</td>\n",
       "      <td>0.131213</td>\n",
       "      <td>0.121082</td>\n",
       "      <td>0.130359</td>\n",
       "      <td>0.133992</td>\n",
       "      <td>0.273858</td>\n",
       "      <td>0.137180</td>\n",
       "      <td>0.120701</td>\n",
       "      <td>0.122149</td>\n",
       "      <td>1.981057</td>\n",
       "      <td>0.305105</td>\n",
       "    </tr>\n",
       "    <tr>\n",
       "      <th>min</th>\n",
       "      <td>1.000000</td>\n",
       "      <td>2002.000000</td>\n",
       "      <td>0.000000</td>\n",
       "      <td>0.000000</td>\n",
       "      <td>0.000000</td>\n",
       "      <td>0.000000</td>\n",
       "      <td>0.000000</td>\n",
       "      <td>0.000000</td>\n",
       "      <td>0.000000</td>\n",
       "      <td>0.000000</td>\n",
       "      <td>...</td>\n",
       "      <td>0.000000</td>\n",
       "      <td>0.000000</td>\n",
       "      <td>0.000000</td>\n",
       "      <td>0.000000</td>\n",
       "      <td>0.000000</td>\n",
       "      <td>0.000000</td>\n",
       "      <td>0.000000</td>\n",
       "      <td>0.000000</td>\n",
       "      <td>-3.100000</td>\n",
       "      <td>0.000000</td>\n",
       "    </tr>\n",
       "    <tr>\n",
       "      <th>25%</th>\n",
       "      <td>1131.500000</td>\n",
       "      <td>2006.000000</td>\n",
       "      <td>0.269231</td>\n",
       "      <td>0.478632</td>\n",
       "      <td>0.275180</td>\n",
       "      <td>0.257785</td>\n",
       "      <td>0.211207</td>\n",
       "      <td>0.179245</td>\n",
       "      <td>0.258621</td>\n",
       "      <td>0.043478</td>\n",
       "      <td>...</td>\n",
       "      <td>0.315789</td>\n",
       "      <td>0.331461</td>\n",
       "      <td>0.420290</td>\n",
       "      <td>0.387755</td>\n",
       "      <td>0.000000</td>\n",
       "      <td>0.408511</td>\n",
       "      <td>0.466960</td>\n",
       "      <td>0.234177</td>\n",
       "      <td>0.400000</td>\n",
       "      <td>0.205882</td>\n",
       "    </tr>\n",
       "    <tr>\n",
       "      <th>50%</th>\n",
       "      <td>3531.000000</td>\n",
       "      <td>2011.000000</td>\n",
       "      <td>0.346154</td>\n",
       "      <td>0.709402</td>\n",
       "      <td>0.505396</td>\n",
       "      <td>0.508651</td>\n",
       "      <td>0.370690</td>\n",
       "      <td>0.283019</td>\n",
       "      <td>0.379310</td>\n",
       "      <td>0.086957</td>\n",
       "      <td>...</td>\n",
       "      <td>0.398496</td>\n",
       "      <td>0.404494</td>\n",
       "      <td>0.507246</td>\n",
       "      <td>0.489796</td>\n",
       "      <td>0.000000</td>\n",
       "      <td>0.493617</td>\n",
       "      <td>0.546256</td>\n",
       "      <td>0.303797</td>\n",
       "      <td>1.500000</td>\n",
       "      <td>0.470588</td>\n",
       "    </tr>\n",
       "    <tr>\n",
       "      <th>75%</th>\n",
       "      <td>9015.000000</td>\n",
       "      <td>2016.000000</td>\n",
       "      <td>0.461538</td>\n",
       "      <td>0.871795</td>\n",
       "      <td>0.688849</td>\n",
       "      <td>0.710208</td>\n",
       "      <td>0.508621</td>\n",
       "      <td>0.391509</td>\n",
       "      <td>0.517241</td>\n",
       "      <td>0.130435</td>\n",
       "      <td>...</td>\n",
       "      <td>0.488722</td>\n",
       "      <td>0.483146</td>\n",
       "      <td>0.594203</td>\n",
       "      <td>0.564626</td>\n",
       "      <td>0.346411</td>\n",
       "      <td>0.591489</td>\n",
       "      <td>0.625551</td>\n",
       "      <td>0.392405</td>\n",
       "      <td>2.900000</td>\n",
       "      <td>0.735294</td>\n",
       "    </tr>\n",
       "    <tr>\n",
       "      <th>max</th>\n",
       "      <td>27506.000000</td>\n",
       "      <td>2021.000000</td>\n",
       "      <td>1.000000</td>\n",
       "      <td>1.000000</td>\n",
       "      <td>1.000000</td>\n",
       "      <td>1.000000</td>\n",
       "      <td>1.000000</td>\n",
       "      <td>1.000000</td>\n",
       "      <td>1.000000</td>\n",
       "      <td>1.000000</td>\n",
       "      <td>...</td>\n",
       "      <td>1.000000</td>\n",
       "      <td>1.000000</td>\n",
       "      <td>1.000000</td>\n",
       "      <td>1.000000</td>\n",
       "      <td>1.000000</td>\n",
       "      <td>1.000000</td>\n",
       "      <td>1.000000</td>\n",
       "      <td>1.000000</td>\n",
       "      <td>11.900000</td>\n",
       "      <td>1.000000</td>\n",
       "    </tr>\n",
       "  </tbody>\n",
       "</table>\n",
       "<p>8 rows × 130 columns</p>\n",
       "</div>"
      ],
      "text/plain": [
       "               IDfg       Season          Age            G           AB  \\\n",
       "count   5575.000000  5575.000000  5575.000000  5575.000000  5575.000000   \n",
       "mean    5366.785830  2011.163229     0.360600     0.652755     0.478666   \n",
       "std     5133.255295     5.612014     0.147476     0.255929     0.242481   \n",
       "min        1.000000  2002.000000     0.000000     0.000000     0.000000   \n",
       "25%     1131.500000  2006.000000     0.269231     0.478632     0.275180   \n",
       "50%     3531.000000  2011.000000     0.346154     0.709402     0.505396   \n",
       "75%     9015.000000  2016.000000     0.461538     0.871795     0.688849   \n",
       "max    27506.000000  2021.000000     1.000000     1.000000     1.000000   \n",
       "\n",
       "                PA            H           1B           2B           3B  ...  \\\n",
       "count  5575.000000  5575.000000  5575.000000  5575.000000  5575.000000  ...   \n",
       "mean      0.480943     0.365973     0.290481     0.399279     0.103459  ...   \n",
       "std       0.262290     0.182585     0.138786     0.171732     0.105891  ...   \n",
       "min       0.000000     0.000000     0.000000     0.000000     0.000000  ...   \n",
       "25%       0.257785     0.211207     0.179245     0.258621     0.043478  ...   \n",
       "50%       0.508651     0.370690     0.283019     0.379310     0.086957  ...   \n",
       "75%       0.710208     0.508621     0.391509     0.517241     0.130435  ...   \n",
       "max       1.000000     1.000000     1.000000     1.000000     1.000000  ...   \n",
       "\n",
       "            Oppo%+       Soft%+        Med%+       Hard%+       Events  \\\n",
       "count  5575.000000  5575.000000  5575.000000  5575.000000  5575.000000   \n",
       "mean      0.403164     0.410923     0.511026     0.478646     0.172991   \n",
       "std       0.131213     0.121082     0.130359     0.133992     0.273858   \n",
       "min       0.000000     0.000000     0.000000     0.000000     0.000000   \n",
       "25%       0.315789     0.331461     0.420290     0.387755     0.000000   \n",
       "50%       0.398496     0.404494     0.507246     0.489796     0.000000   \n",
       "75%       0.488722     0.483146     0.594203     0.564626     0.346411   \n",
       "max       1.000000     1.000000     1.000000     1.000000     1.000000   \n",
       "\n",
       "             CStr%         CSW%        L-WAR     Next_WAR    team_code  \n",
       "count  5575.000000  5575.000000  5575.000000  5575.000000  5575.000000  \n",
       "mean      0.498932     0.545898     0.322028     1.792951     0.474128  \n",
       "std       0.137180     0.120701     0.122149     1.981057     0.305105  \n",
       "min       0.000000     0.000000     0.000000    -3.100000     0.000000  \n",
       "25%       0.408511     0.466960     0.234177     0.400000     0.205882  \n",
       "50%       0.493617     0.546256     0.303797     1.500000     0.470588  \n",
       "75%       0.591489     0.625551     0.392405     2.900000     0.735294  \n",
       "max       1.000000     1.000000     1.000000    11.900000     1.000000  \n",
       "\n",
       "[8 rows x 130 columns]"
      ]
     },
     "execution_count": 157,
     "metadata": {},
     "output_type": "execute_result"
    }
   ],
   "source": [
    "batting.describe()"
   ]
  },
  {
   "cell_type": "code",
   "execution_count": 159,
   "id": "f1304ca9-fab1-4ec6-9e14-cd5e5db27c47",
   "metadata": {
    "tags": []
   },
   "outputs": [
    {
     "data": {
      "text/html": [
       "<style>#sk-container-id-1 {color: black;background-color: white;}#sk-container-id-1 pre{padding: 0;}#sk-container-id-1 div.sk-toggleable {background-color: white;}#sk-container-id-1 label.sk-toggleable__label {cursor: pointer;display: block;width: 100%;margin-bottom: 0;padding: 0.3em;box-sizing: border-box;text-align: center;}#sk-container-id-1 label.sk-toggleable__label-arrow:before {content: \"▸\";float: left;margin-right: 0.25em;color: #696969;}#sk-container-id-1 label.sk-toggleable__label-arrow:hover:before {color: black;}#sk-container-id-1 div.sk-estimator:hover label.sk-toggleable__label-arrow:before {color: black;}#sk-container-id-1 div.sk-toggleable__content {max-height: 0;max-width: 0;overflow: hidden;text-align: left;background-color: #f0f8ff;}#sk-container-id-1 div.sk-toggleable__content pre {margin: 0.2em;color: black;border-radius: 0.25em;background-color: #f0f8ff;}#sk-container-id-1 input.sk-toggleable__control:checked~div.sk-toggleable__content {max-height: 200px;max-width: 100%;overflow: auto;}#sk-container-id-1 input.sk-toggleable__control:checked~label.sk-toggleable__label-arrow:before {content: \"▾\";}#sk-container-id-1 div.sk-estimator input.sk-toggleable__control:checked~label.sk-toggleable__label {background-color: #d4ebff;}#sk-container-id-1 div.sk-label input.sk-toggleable__control:checked~label.sk-toggleable__label {background-color: #d4ebff;}#sk-container-id-1 input.sk-hidden--visually {border: 0;clip: rect(1px 1px 1px 1px);clip: rect(1px, 1px, 1px, 1px);height: 1px;margin: -1px;overflow: hidden;padding: 0;position: absolute;width: 1px;}#sk-container-id-1 div.sk-estimator {font-family: monospace;background-color: #f0f8ff;border: 1px dotted black;border-radius: 0.25em;box-sizing: border-box;margin-bottom: 0.5em;}#sk-container-id-1 div.sk-estimator:hover {background-color: #d4ebff;}#sk-container-id-1 div.sk-parallel-item::after {content: \"\";width: 100%;border-bottom: 1px solid gray;flex-grow: 1;}#sk-container-id-1 div.sk-label:hover label.sk-toggleable__label {background-color: #d4ebff;}#sk-container-id-1 div.sk-serial::before {content: \"\";position: absolute;border-left: 1px solid gray;box-sizing: border-box;top: 0;bottom: 0;left: 50%;z-index: 0;}#sk-container-id-1 div.sk-serial {display: flex;flex-direction: column;align-items: center;background-color: white;padding-right: 0.2em;padding-left: 0.2em;position: relative;}#sk-container-id-1 div.sk-item {position: relative;z-index: 1;}#sk-container-id-1 div.sk-parallel {display: flex;align-items: stretch;justify-content: center;background-color: white;position: relative;}#sk-container-id-1 div.sk-item::before, #sk-container-id-1 div.sk-parallel-item::before {content: \"\";position: absolute;border-left: 1px solid gray;box-sizing: border-box;top: 0;bottom: 0;left: 50%;z-index: -1;}#sk-container-id-1 div.sk-parallel-item {display: flex;flex-direction: column;z-index: 1;position: relative;background-color: white;}#sk-container-id-1 div.sk-parallel-item:first-child::after {align-self: flex-end;width: 50%;}#sk-container-id-1 div.sk-parallel-item:last-child::after {align-self: flex-start;width: 50%;}#sk-container-id-1 div.sk-parallel-item:only-child::after {width: 0;}#sk-container-id-1 div.sk-dashed-wrapped {border: 1px dashed gray;margin: 0 0.4em 0.5em 0.4em;box-sizing: border-box;padding-bottom: 0.4em;background-color: white;}#sk-container-id-1 div.sk-label label {font-family: monospace;font-weight: bold;display: inline-block;line-height: 1.2em;}#sk-container-id-1 div.sk-label-container {text-align: center;}#sk-container-id-1 div.sk-container {/* jupyter's `normalize.less` sets `[hidden] { display: none; }` but bootstrap.min.css set `[hidden] { display: none !important; }` so we also need the `!important` here to be able to override the default hidden behavior on the sphinx rendered scikit-learn.org. See: https://github.com/scikit-learn/scikit-learn/issues/21755 */display: inline-block !important;position: relative;}#sk-container-id-1 div.sk-text-repr-fallback {display: none;}</style><div id=\"sk-container-id-1\" class=\"sk-top-container\"><div class=\"sk-text-repr-fallback\"><pre>SequentialFeatureSelector(cv=TimeSeriesSplit(gap=0, max_train_size=None, n_splits=3, test_size=None),\n",
       "                          estimator=Ridge(alpha=1), n_features_to_select=20,\n",
       "                          n_jobs=4)</pre><b>In a Jupyter environment, please rerun this cell to show the HTML representation or trust the notebook. <br />On GitHub, the HTML representation is unable to render, please try loading this page with nbviewer.org.</b></div><div class=\"sk-container\" hidden><div class=\"sk-item sk-dashed-wrapped\"><div class=\"sk-label-container\"><div class=\"sk-label sk-toggleable\"><input class=\"sk-toggleable__control sk-hidden--visually\" id=\"sk-estimator-id-1\" type=\"checkbox\" ><label for=\"sk-estimator-id-1\" class=\"sk-toggleable__label sk-toggleable__label-arrow\">SequentialFeatureSelector</label><div class=\"sk-toggleable__content\"><pre>SequentialFeatureSelector(cv=TimeSeriesSplit(gap=0, max_train_size=None, n_splits=3, test_size=None),\n",
       "                          estimator=Ridge(alpha=1), n_features_to_select=20,\n",
       "                          n_jobs=4)</pre></div></div></div><div class=\"sk-parallel\"><div class=\"sk-parallel-item\"><div class=\"sk-item\"><div class=\"sk-label-container\"><div class=\"sk-label sk-toggleable\"><input class=\"sk-toggleable__control sk-hidden--visually\" id=\"sk-estimator-id-2\" type=\"checkbox\" ><label for=\"sk-estimator-id-2\" class=\"sk-toggleable__label sk-toggleable__label-arrow\">estimator: Ridge</label><div class=\"sk-toggleable__content\"><pre>Ridge(alpha=1)</pre></div></div></div><div class=\"sk-serial\"><div class=\"sk-item\"><div class=\"sk-estimator sk-toggleable\"><input class=\"sk-toggleable__control sk-hidden--visually\" id=\"sk-estimator-id-3\" type=\"checkbox\" ><label for=\"sk-estimator-id-3\" class=\"sk-toggleable__label sk-toggleable__label-arrow\">Ridge</label><div class=\"sk-toggleable__content\"><pre>Ridge(alpha=1)</pre></div></div></div></div></div></div></div></div></div></div>"
      ],
      "text/plain": [
       "SequentialFeatureSelector(cv=TimeSeriesSplit(gap=0, max_train_size=None, n_splits=3, test_size=None),\n",
       "                          estimator=Ridge(alpha=1), n_features_to_select=20,\n",
       "                          n_jobs=4)"
      ]
     },
     "execution_count": 159,
     "metadata": {},
     "output_type": "execute_result"
    }
   ],
   "source": [
    "sfs.fit(batting[selected_columns], batting[\"Next_WAR\"])"
   ]
  },
  {
   "cell_type": "code",
   "execution_count": 165,
   "id": "6752fb4a-d4df-43af-bf4f-7d01b73c84d9",
   "metadata": {
    "tags": []
   },
   "outputs": [],
   "source": [
    "predictors = list(selected_columns[sfs.get_support()])"
   ]
  },
  {
   "cell_type": "code",
   "execution_count": 177,
   "id": "cfb4758c-1ec8-4657-924e-a8d1cea51368",
   "metadata": {
    "tags": []
   },
   "outputs": [],
   "source": [
    "def backtest(data, model, predictors, start=5, step=1):\n",
    "    all_predictions = []\n",
    "    \n",
    "    years = sorted(data[\"Season\"].unique())\n",
    "    \n",
    "    for i in range(start, len(years), step):\n",
    "        current_year = years[i]\n",
    "        \n",
    "        train = data[data[\"Season\"] < current_year]\n",
    "        test = data[data[\"Season\"] == current_year]\n",
    "        \n",
    "        model.fit(train[predictors], train[\"Next_WAR\"])\n",
    "        \n",
    "        preds = model.predict(test[predictors])\n",
    "        preds = pd.Series(preds, index=test.index)\n",
    "        combined = pd.concat([test[\"Next_WAR\"], preds], axis=1)\n",
    "        combined.columns = [\"actual\", \"prediction\"]\n",
    "        \n",
    "        all_predictions.append(combined)\n",
    "    return pd.concat(all_predictions)"
   ]
  },
  {
   "cell_type": "code",
   "execution_count": 179,
   "id": "d3161a4a-7792-4e89-9ff4-fcf15b45f632",
   "metadata": {
    "tags": []
   },
   "outputs": [],
   "source": [
    "predictions = backtest(batting, rr, predictors)"
   ]
  },
  {
   "cell_type": "code",
   "execution_count": 181,
   "id": "5b6fae57-fa3b-424c-b3c9-ed79119393bc",
   "metadata": {
    "tags": []
   },
   "outputs": [
    {
     "data": {
      "text/html": [
       "<div>\n",
       "<style scoped>\n",
       "    .dataframe tbody tr th:only-of-type {\n",
       "        vertical-align: middle;\n",
       "    }\n",
       "\n",
       "    .dataframe tbody tr th {\n",
       "        vertical-align: top;\n",
       "    }\n",
       "\n",
       "    .dataframe thead th {\n",
       "        text-align: right;\n",
       "    }\n",
       "</style>\n",
       "<table border=\"1\" class=\"dataframe\">\n",
       "  <thead>\n",
       "    <tr style=\"text-align: right;\">\n",
       "      <th></th>\n",
       "      <th>actual</th>\n",
       "      <th>prediction</th>\n",
       "    </tr>\n",
       "  </thead>\n",
       "  <tbody>\n",
       "    <tr>\n",
       "      <th>2609</th>\n",
       "      <td>1.2</td>\n",
       "      <td>1.405835</td>\n",
       "    </tr>\n",
       "    <tr>\n",
       "      <th>3390</th>\n",
       "      <td>1.4</td>\n",
       "      <td>0.716105</td>\n",
       "    </tr>\n",
       "    <tr>\n",
       "      <th>4581</th>\n",
       "      <td>-0.1</td>\n",
       "      <td>0.457908</td>\n",
       "    </tr>\n",
       "    <tr>\n",
       "      <th>4668</th>\n",
       "      <td>0.6</td>\n",
       "      <td>0.979155</td>\n",
       "    </tr>\n",
       "    <tr>\n",
       "      <th>1756</th>\n",
       "      <td>4.8</td>\n",
       "      <td>2.214873</td>\n",
       "    </tr>\n",
       "    <tr>\n",
       "      <th>...</th>\n",
       "      <td>...</td>\n",
       "      <td>...</td>\n",
       "    </tr>\n",
       "    <tr>\n",
       "      <th>2063</th>\n",
       "      <td>2.2</td>\n",
       "      <td>2.751896</td>\n",
       "    </tr>\n",
       "    <tr>\n",
       "      <th>3796</th>\n",
       "      <td>0.8</td>\n",
       "      <td>2.084249</td>\n",
       "    </tr>\n",
       "    <tr>\n",
       "      <th>6696</th>\n",
       "      <td>0.7</td>\n",
       "      <td>1.584162</td>\n",
       "    </tr>\n",
       "    <tr>\n",
       "      <th>6108</th>\n",
       "      <td>-0.5</td>\n",
       "      <td>1.819452</td>\n",
       "    </tr>\n",
       "    <tr>\n",
       "      <th>5238</th>\n",
       "      <td>3.7</td>\n",
       "      <td>1.041309</td>\n",
       "    </tr>\n",
       "  </tbody>\n",
       "</table>\n",
       "<p>4127 rows × 2 columns</p>\n",
       "</div>"
      ],
      "text/plain": [
       "      actual  prediction\n",
       "2609     1.2    1.405835\n",
       "3390     1.4    0.716105\n",
       "4581    -0.1    0.457908\n",
       "4668     0.6    0.979155\n",
       "1756     4.8    2.214873\n",
       "...      ...         ...\n",
       "2063     2.2    2.751896\n",
       "3796     0.8    2.084249\n",
       "6696     0.7    1.584162\n",
       "6108    -0.5    1.819452\n",
       "5238     3.7    1.041309\n",
       "\n",
       "[4127 rows x 2 columns]"
      ]
     },
     "execution_count": 181,
     "metadata": {},
     "output_type": "execute_result"
    }
   ],
   "source": [
    "predictions"
   ]
  },
  {
   "cell_type": "code",
   "execution_count": 185,
   "id": "c648573c-c63c-4a09-8de4-9f742c1c0639",
   "metadata": {
    "tags": []
   },
   "outputs": [
    {
     "data": {
      "text/plain": [
       "2.73609694226162"
      ]
     },
     "execution_count": 185,
     "metadata": {},
     "output_type": "execute_result"
    }
   ],
   "source": [
    "from sklearn.metrics import mean_squared_error\n",
    "\n",
    "mean_squared_error(predictions[\"actual\"], predictions[\"prediction\"])"
   ]
  },
  {
   "cell_type": "code",
   "execution_count": 187,
   "id": "d007beae-e2cc-4ba8-b19c-603e0cc5cb90",
   "metadata": {
    "tags": []
   },
   "outputs": [
    {
     "data": {
      "text/plain": [
       "count    5575.000000\n",
       "mean        1.792951\n",
       "std         1.981057\n",
       "min        -3.100000\n",
       "25%         0.400000\n",
       "50%         1.500000\n",
       "75%         2.900000\n",
       "max        11.900000\n",
       "Name: Next_WAR, dtype: float64"
      ]
     },
     "execution_count": 187,
     "metadata": {},
     "output_type": "execute_result"
    }
   ],
   "source": [
    "batting[\"Next_WAR\"].describe()"
   ]
  },
  {
   "cell_type": "code",
   "execution_count": 189,
   "id": "0e2af298-0d67-41b4-9210-5c8203a370d6",
   "metadata": {
    "tags": []
   },
   "outputs": [
    {
     "data": {
      "text/plain": [
       "1.6541151538697723"
      ]
     },
     "execution_count": 189,
     "metadata": {},
     "output_type": "execute_result"
    }
   ],
   "source": [
    "2.73609694226162 ** .5"
   ]
  },
  {
   "cell_type": "code",
   "execution_count": 243,
   "id": "f1f12a0b-e4fa-48f1-aceb-4d8fc7b01bf1",
   "metadata": {
    "tags": []
   },
   "outputs": [],
   "source": [
    "def player_history(df):\n",
    "    df = df.sort_values(\"Season\")\n",
    "    \n",
    "    df[\"player_season\"] = range(0, df.shape[0])\n",
    "    df[\"war_corr\"] = list(df[[\"player_season\", \"WAR\"]].expanding().corr().loc[(slice(None), \"player_season\"), \"WAR\"])\n",
    "    df[\"war_corr\"].fillna(1, inplace=True)\n",
    "    \n",
    "    df[\"war_diff\"] = df[\"WAR\"] / df[\"WAR\"].shift(1)\n",
    "    df[\"war_diff\"].fillna(1, inplace=True)\n",
    "    \n",
    "    df[\"war_diff\"][df[\"war_diff\"] == np.inf] = 1\n",
    "    \n",
    "    return df\n",
    "\n",
    "batting = batting.groupby(\"IDfg\", group_keys=False).apply(player_history)"
   ]
  },
  {
   "cell_type": "code",
   "execution_count": 244,
   "id": "0eac8c5f-6323-49cc-a4d3-e22fb5eb0e17",
   "metadata": {
    "tags": []
   },
   "outputs": [],
   "source": [
    "def group_averages(df):\n",
    "    return df[\"WAR\"] / df[\"WAR\"].mean()"
   ]
  },
  {
   "cell_type": "code",
   "execution_count": 245,
   "id": "bf0466f7-da03-458e-ac0d-0abfefc29666",
   "metadata": {
    "tags": []
   },
   "outputs": [],
   "source": [
    "batting[\"war_season\"] = batting.groupby(\"Season\", group_keys=False).apply(group_averages)"
   ]
  },
  {
   "cell_type": "code",
   "execution_count": 246,
   "id": "ea0fa6cd-9519-483b-8b42-b5f66fd7589b",
   "metadata": {
    "tags": []
   },
   "outputs": [],
   "source": [
    "new_predictors = predictors + [\"player_season\", \"war_corr\", \"war_season\", \"war_diff\"]"
   ]
  },
  {
   "cell_type": "code",
   "execution_count": 247,
   "id": "5916e6b4-7555-44fc-9631-00a9949aa991",
   "metadata": {
    "tags": []
   },
   "outputs": [],
   "source": [
    "predictions = backtest(batting, rr, new_predictors)"
   ]
  },
  {
   "cell_type": "code",
   "execution_count": 253,
   "id": "76c645e9-9914-4935-b575-9cfd87ab1c6b",
   "metadata": {
    "tags": []
   },
   "outputs": [
    {
     "data": {
      "text/plain": [
       "2.6788090890767275"
      ]
     },
     "execution_count": 253,
     "metadata": {},
     "output_type": "execute_result"
    }
   ],
   "source": [
    "mean_squared_error(predictions[\"actual\"], predictions[\"prediction\"])"
   ]
  },
  {
   "cell_type": "code",
   "execution_count": 257,
   "id": "a7712e0e-7acf-4602-8504-c217b7cc3dc4",
   "metadata": {
    "tags": []
   },
   "outputs": [
    {
     "data": {
      "text/plain": [
       "Age             -2.712820\n",
       "BABIP           -1.939542\n",
       "WAR             -1.843622\n",
       "SLG+            -1.384088\n",
       "Soft%+          -1.323119\n",
       "BU              -1.127176\n",
       "SO              -0.898473\n",
       "PH              -0.744796\n",
       "WPA             -0.555514\n",
       "CH%             -0.288723\n",
       "wCH             -0.285498\n",
       "war_diff        -0.284176\n",
       "CB%             -0.275700\n",
       "Pull%+          -0.217444\n",
       "war_corr        -0.137852\n",
       "player_season    0.000095\n",
       "IFH              0.633172\n",
       "Oppo%            0.694981\n",
       "Spd              0.768796\n",
       "OBP+             0.827846\n",
       "SB               0.963999\n",
       "IBB              2.062798\n",
       "Hard%+           2.442550\n",
       "war_season       3.191648\n",
       "dtype: float64"
      ]
     },
     "execution_count": 257,
     "metadata": {},
     "output_type": "execute_result"
    }
   ],
   "source": [
    "pd.Series(rr.coef_, index=new_predictors).sort_values()"
   ]
  },
  {
   "cell_type": "code",
   "execution_count": 259,
   "id": "c89c1fcb-28f2-4c8f-9a33-5708caa861ac",
   "metadata": {
    "tags": []
   },
   "outputs": [],
   "source": [
    "diff = predictions[\"actual\"] - predictions[\"prediction\"]"
   ]
  },
  {
   "cell_type": "code",
   "execution_count": 263,
   "id": "bf9ff577-994b-4d92-8426-4a5117d01605",
   "metadata": {
    "tags": []
   },
   "outputs": [],
   "source": [
    "merged = predictions.merge(batting, left_index=True, right_index=True)"
   ]
  },
  {
   "cell_type": "code",
   "execution_count": 265,
   "id": "4110e59c-26e4-44ac-8684-9369e7bd759b",
   "metadata": {
    "tags": []
   },
   "outputs": [],
   "source": [
    "merged[\"diff\"] = (predictions[\"actual\"] - predictions[\"prediction\"]).abs()"
   ]
  },
  {
   "cell_type": "code",
   "execution_count": 269,
   "id": "99d127b2-0801-4bdb-99e3-83d67eda8c3d",
   "metadata": {
    "tags": []
   },
   "outputs": [
    {
     "data": {
      "text/html": [
       "<div>\n",
       "<style scoped>\n",
       "    .dataframe tbody tr th:only-of-type {\n",
       "        vertical-align: middle;\n",
       "    }\n",
       "\n",
       "    .dataframe tbody tr th {\n",
       "        vertical-align: top;\n",
       "    }\n",
       "\n",
       "    .dataframe thead th {\n",
       "        text-align: right;\n",
       "    }\n",
       "</style>\n",
       "<table border=\"1\" class=\"dataframe\">\n",
       "  <thead>\n",
       "    <tr style=\"text-align: right;\">\n",
       "      <th></th>\n",
       "      <th>IDfg</th>\n",
       "      <th>Season</th>\n",
       "      <th>Name</th>\n",
       "      <th>WAR</th>\n",
       "      <th>Next_WAR</th>\n",
       "      <th>diff</th>\n",
       "    </tr>\n",
       "  </thead>\n",
       "  <tbody>\n",
       "    <tr>\n",
       "      <th>4487</th>\n",
       "      <td>4403</td>\n",
       "      <td>2013</td>\n",
       "      <td>Erik Kratz</td>\n",
       "      <td>0.246835</td>\n",
       "      <td>1.1</td>\n",
       "      <td>0.001375</td>\n",
       "    </tr>\n",
       "    <tr>\n",
       "      <th>6435</th>\n",
       "      <td>17696</td>\n",
       "      <td>2021</td>\n",
       "      <td>Kevin Newman</td>\n",
       "      <td>0.170886</td>\n",
       "      <td>1.2</td>\n",
       "      <td>0.001875</td>\n",
       "    </tr>\n",
       "    <tr>\n",
       "      <th>622</th>\n",
       "      <td>15172</td>\n",
       "      <td>2019</td>\n",
       "      <td>Tim Anderson</td>\n",
       "      <td>0.481013</td>\n",
       "      <td>2.3</td>\n",
       "      <td>0.002661</td>\n",
       "    </tr>\n",
       "    <tr>\n",
       "      <th>2105</th>\n",
       "      <td>1286</td>\n",
       "      <td>2008</td>\n",
       "      <td>Michael Young</td>\n",
       "      <td>0.348101</td>\n",
       "      <td>2.6</td>\n",
       "      <td>0.003986</td>\n",
       "    </tr>\n",
       "    <tr>\n",
       "      <th>4748</th>\n",
       "      <td>5887</td>\n",
       "      <td>2013</td>\n",
       "      <td>John Jaso</td>\n",
       "      <td>0.234177</td>\n",
       "      <td>0.6</td>\n",
       "      <td>0.004329</td>\n",
       "    </tr>\n",
       "    <tr>\n",
       "      <th>...</th>\n",
       "      <td>...</td>\n",
       "      <td>...</td>\n",
       "      <td>...</td>\n",
       "      <td>...</td>\n",
       "      <td>...</td>\n",
       "      <td>...</td>\n",
       "    </tr>\n",
       "    <tr>\n",
       "      <th>3595</th>\n",
       "      <td>1875</td>\n",
       "      <td>2009</td>\n",
       "      <td>Josh Hamilton</td>\n",
       "      <td>0.278481</td>\n",
       "      <td>8.4</td>\n",
       "      <td>6.457327</td>\n",
       "    </tr>\n",
       "    <tr>\n",
       "      <th>903</th>\n",
       "      <td>9166</td>\n",
       "      <td>2010</td>\n",
       "      <td>Buster Posey</td>\n",
       "      <td>0.443038</td>\n",
       "      <td>9.8</td>\n",
       "      <td>6.526769</td>\n",
       "    </tr>\n",
       "    <tr>\n",
       "      <th>5754</th>\n",
       "      <td>5631</td>\n",
       "      <td>2010</td>\n",
       "      <td>Matt Kemp</td>\n",
       "      <td>0.196203</td>\n",
       "      <td>8.3</td>\n",
       "      <td>6.526948</td>\n",
       "    </tr>\n",
       "    <tr>\n",
       "      <th>316</th>\n",
       "      <td>15640</td>\n",
       "      <td>2021</td>\n",
       "      <td>Aaron Judge</td>\n",
       "      <td>0.544304</td>\n",
       "      <td>11.1</td>\n",
       "      <td>7.313785</td>\n",
       "    </tr>\n",
       "    <tr>\n",
       "      <th>3123</th>\n",
       "      <td>11579</td>\n",
       "      <td>2014</td>\n",
       "      <td>Bryce Harper</td>\n",
       "      <td>0.297468</td>\n",
       "      <td>9.3</td>\n",
       "      <td>7.560789</td>\n",
       "    </tr>\n",
       "  </tbody>\n",
       "</table>\n",
       "<p>4127 rows × 6 columns</p>\n",
       "</div>"
      ],
      "text/plain": [
       "       IDfg  Season           Name       WAR  Next_WAR      diff\n",
       "4487   4403    2013     Erik Kratz  0.246835       1.1  0.001375\n",
       "6435  17696    2021   Kevin Newman  0.170886       1.2  0.001875\n",
       "622   15172    2019   Tim Anderson  0.481013       2.3  0.002661\n",
       "2105   1286    2008  Michael Young  0.348101       2.6  0.003986\n",
       "4748   5887    2013      John Jaso  0.234177       0.6  0.004329\n",
       "...     ...     ...            ...       ...       ...       ...\n",
       "3595   1875    2009  Josh Hamilton  0.278481       8.4  6.457327\n",
       "903    9166    2010   Buster Posey  0.443038       9.8  6.526769\n",
       "5754   5631    2010      Matt Kemp  0.196203       8.3  6.526948\n",
       "316   15640    2021    Aaron Judge  0.544304      11.1  7.313785\n",
       "3123  11579    2014   Bryce Harper  0.297468       9.3  7.560789\n",
       "\n",
       "[4127 rows x 6 columns]"
      ]
     },
     "execution_count": 269,
     "metadata": {},
     "output_type": "execute_result"
    }
   ],
   "source": [
    "merged[[\"IDfg\", \"Season\", \"Name\", \"WAR\", \"Next_WAR\", \"diff\"]].sort_values([\"diff\"])"
   ]
  },
  {
   "cell_type": "code",
   "execution_count": null,
   "id": "81bb4210-af0e-43f3-beee-12aeb0505c34",
   "metadata": {},
   "outputs": [],
   "source": []
  }
 ],
 "metadata": {
  "kernelspec": {
   "display_name": "Python 3 (ipykernel)",
   "language": "python",
   "name": "python3"
  },
  "language_info": {
   "codemirror_mode": {
    "name": "ipython",
    "version": 3
   },
   "file_extension": ".py",
   "mimetype": "text/x-python",
   "name": "python",
   "nbconvert_exporter": "python",
   "pygments_lexer": "ipython3",
   "version": "3.11.7"
  }
 },
 "nbformat": 4,
 "nbformat_minor": 5
}
