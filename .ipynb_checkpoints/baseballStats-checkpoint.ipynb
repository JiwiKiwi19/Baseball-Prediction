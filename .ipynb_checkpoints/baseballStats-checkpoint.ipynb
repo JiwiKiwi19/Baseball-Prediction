{
 "cells": [
  {
   "cell_type": "code",
   "execution_count": 19,
   "id": "eca8b1ff",
   "metadata": {},
   "outputs": [],
   "source": [
    "import os\n",
    "import pandas as pd\n",
    "import numpy as np\n",
    "from pybaseball import batting_stats"
   ]
  },
  {
   "cell_type": "code",
   "execution_count": 20,
   "id": "21cd1c16",
   "metadata": {},
   "outputs": [],
   "source": [
    "START = 2002\n",
    "END = 2022"
   ]
  },
  {
   "cell_type": "code",
   "execution_count": null,
   "id": "dc34b465",
   "metadata": {},
   "outputs": [],
   "source": [
    "#Qual stands for how many at bats the batter should at least have\n",
    "batting = batting_stats(START, END, qual=200)"
   ]
  },
  {
   "cell_type": "code",
   "execution_count": null,
   "id": "7539c4d2",
   "metadata": {},
   "outputs": [],
   "source": [
    "batting.to_csv(\"batting.csv\") "
   ]
  },
  {
   "cell_type": "code",
   "execution_count": null,
   "id": "06c2fd1a",
   "metadata": {},
   "outputs": [],
   "source": [
    "#Grouping each individual players' stats and remove groups that have only one season of data\n",
    "\n",
    "batting = batting.groupby(\"IDfg\", group_keys=False).filter(lambda x: x.shape[0] > 1)"
   ]
  },
  {
   "cell_type": "code",
   "execution_count": null,
   "id": "16cc685b",
   "metadata": {},
   "outputs": [],
   "source": [
    "#Trying to predict the Wins Above Replacement (WAR) of the players\n",
    "# What is WAR? \n",
    "# WAR (Wins Above Replacement) in baseball measures a player's total value to their team by estimating \n",
    "# how many more wins they contribute compared to a replacement-level player."
   ]
  },
  {
   "cell_type": "code",
   "execution_count": null,
   "id": "9b78354a",
   "metadata": {},
   "outputs": [],
   "source": [
    "def season_Predict(player):\n",
    "    player = player.sort_values(\"Season\")\n",
    "    player[\"Next_WAR\"] = player[\"WAR\"].shift(-1)\n",
    "    \n",
    "batting = batting.groupby(\"IDfg\", group_keys=False).apply(season_Predict)"
   ]
  },
  {
   "cell_type": "code",
   "execution_count": null,
   "id": "18d627fa",
   "metadata": {},
   "outputs": [],
   "source": [
    "batting[[\"Name\", \"Season\",\"WAR\", \"Next_WAR\"]]"
   ]
  },
  {
   "cell_type": "code",
   "execution_count": null,
   "id": "a9795838",
   "metadata": {},
   "outputs": [],
   "source": []
  }
 ],
 "metadata": {
  "kernelspec": {
   "display_name": "Python 3 (ipykernel)",
   "language": "python",
   "name": "python3"
  },
  "language_info": {
   "codemirror_mode": {
    "name": "ipython",
    "version": 3
   },
   "file_extension": ".py",
   "mimetype": "text/x-python",
   "name": "python",
   "nbconvert_exporter": "python",
   "pygments_lexer": "ipython3",
   "version": "3.11.7"
  }
 },
 "nbformat": 4,
 "nbformat_minor": 5
}
